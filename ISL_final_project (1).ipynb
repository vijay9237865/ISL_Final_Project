{
  "cells": [
    {
      "cell_type": "code",
      "execution_count": 1,
      "metadata": {
        "id": "53dr5bfOpLfQ"
      },
      "outputs": [],
      "source": [
        "#importing required libraries\n",
        "import os\n",
        "import numpy as np\n",
        "import seaborn as sns\n",
        "import matplotlib\n",
        "import matplotlib.pyplot as plt\n",
        "import itertools\n",
        "import tensorflow as tf\n",
        "from tensorflow import keras\n",
        "from keras.datasets import cifar10\n",
        "from keras.preprocessing.image import ImageDataGenerator\n",
        "from keras.models import Sequential\n",
        "from keras.layers import Dense, Dropout, Activation, Flatten, Conv2D, MaxPooling2D, BatchNormalization\n",
        "%matplotlib inline"
      ]
    },
    {
      "cell_type": "code",
      "execution_count": 2,
      "metadata": {
        "id": "RZOJYaFwpOyM"
      },
      "outputs": [],
      "source": [
        "batch_size = 32\n",
        "num_classes = 10\n",
        "epochs = 10\n",
        "data_agumentation = False"
      ]
    },
    {
      "cell_type": "code",
      "execution_count": 3,
      "metadata": {
        "colab": {
          "base_uri": "https://localhost:8080/"
        },
        "id": "-cyLqYUrpO0y",
        "outputId": "9075503a-171c-46f7-bd69-f04b0fe66116"
      },
      "outputs": [
        {
          "output_type": "stream",
          "name": "stdout",
          "text": [
            "Downloading data from https://www.cs.toronto.edu/~kriz/cifar-10-python.tar.gz\n",
            "170498071/170498071 [==============================] - 6s 0us/step\n",
            "(50000, 32, 32, 3)\n",
            "(50000, 1)\n",
            "(10000, 32, 32, 3)\n",
            "(10000, 1)\n"
          ]
        }
      ],
      "source": [
        "#assigning the training and testing data to the model\n",
        "(x_train, y_train),(x_test, y_test) = cifar10.load_data()\n",
        "#printing the shape of x_train, x_test, y_train and y_test\n",
        "print(x_train.shape)\n",
        "print(y_train.shape)\n",
        "print(x_test.shape)\n",
        "print(y_test.shape)\n"
      ]
    },
    {
      "cell_type": "code",
      "execution_count": 4,
      "metadata": {
        "id": "NP_TSLDRpO3W"
      },
      "outputs": [],
      "source": [
        "#scalining\n",
        "x_train = x_train.astype('float32')\n",
        "x_test =x_test.astype('float32')\n",
        "x_train = x_train/255.0\n",
        "x_test = x_test / 255.0"
      ]
    },
    {
      "cell_type": "markdown",
      "metadata": {
        "id": "bT5Io5Fr51A7"
      },
      "source": [
        "# **1) Sequential Model**"
      ]
    },
    {
      "cell_type": "code",
      "execution_count": 5,
      "metadata": {
        "colab": {
          "base_uri": "https://localhost:8080/"
        },
        "id": "Da3PFglXpO8X",
        "outputId": "1c170fa3-5d51-4b0b-b326-8ec7cd2c08ec"
      },
      "outputs": [
        {
          "output_type": "stream",
          "name": "stdout",
          "text": [
            "Model: \"sequential\"\n",
            "_________________________________________________________________\n",
            " Layer (type)                Output Shape              Param #   \n",
            "=================================================================\n",
            " conv2d (Conv2D)             (None, 32, 32, 32)        896       \n",
            "                                                                 \n",
            " dropout (Dropout)           (None, 32, 32, 32)        0         \n",
            "                                                                 \n",
            " conv2d_1 (Conv2D)           (None, 32, 32, 32)        9248      \n",
            "                                                                 \n",
            " max_pooling2d (MaxPooling2D  (None, 16, 16, 32)       0         \n",
            " )                                                               \n",
            "                                                                 \n",
            " conv2d_2 (Conv2D)           (None, 16, 16, 64)        18496     \n",
            "                                                                 \n",
            " dropout_1 (Dropout)         (None, 16, 16, 64)        0         \n",
            "                                                                 \n",
            " conv2d_3 (Conv2D)           (None, 16, 16, 64)        36928     \n",
            "                                                                 \n",
            " max_pooling2d_1 (MaxPooling  (None, 8, 8, 64)         0         \n",
            " 2D)                                                             \n",
            "                                                                 \n",
            " conv2d_4 (Conv2D)           (None, 8, 8, 128)         73856     \n",
            "                                                                 \n",
            " dropout_2 (Dropout)         (None, 8, 8, 128)         0         \n",
            "                                                                 \n",
            " conv2d_5 (Conv2D)           (None, 8, 8, 128)         147584    \n",
            "                                                                 \n",
            " max_pooling2d_2 (MaxPooling  (None, 4, 4, 128)        0         \n",
            " 2D)                                                             \n",
            "                                                                 \n",
            " flatten (Flatten)           (None, 2048)              0         \n",
            "                                                                 \n",
            " dropout_3 (Dropout)         (None, 2048)              0         \n",
            "                                                                 \n",
            " dense (Dense)               (None, 1024)              2098176   \n",
            "                                                                 \n",
            " dropout_4 (Dropout)         (None, 1024)              0         \n",
            "                                                                 \n",
            " dense_1 (Dense)             (None, 512)               524800    \n",
            "                                                                 \n",
            " dropout_5 (Dropout)         (None, 512)               0         \n",
            "                                                                 \n",
            " dense_2 (Dense)             (None, 10)                5130      \n",
            "                                                                 \n",
            "=================================================================\n",
            "Total params: 2,915,114\n",
            "Trainable params: 2,915,114\n",
            "Non-trainable params: 0\n",
            "_________________________________________________________________\n"
          ]
        }
      ],
      "source": [
        "#importing required libraries\n",
        "from tensorflow import keras\n",
        "from tensorflow.keras import layers\n",
        "from tensorflow.keras.models import Sequential\n",
        "\n",
        "epochs= 25\n",
        "batch_size =64 \n",
        "\n",
        "#creating the sequential model\n",
        "model = Sequential([\n",
        "  #input layer\n",
        "  layers.Conv2D(32, 3, padding='same', input_shape=(32,32,3), activation='relu'),\n",
        "\n",
        "  #hidden layers\n",
        "  layers.Dropout(0.2),\n",
        "  layers.Conv2D(32, 3, padding='same', activation='relu'),   #convolution 2D layer with activation relu\n",
        "  layers.MaxPooling2D(),\n",
        "  layers.Conv2D(64, 3, padding='same', activation='relu'),  #convolution 2D layer with activation relu\n",
        "  layers.Dropout(0.2),\n",
        "  layers.Conv2D(64, 3, padding='same', activation='relu'),  #convolution 2D layer with activation relu\n",
        "  layers.MaxPooling2D(),\n",
        "  layers.Conv2D(128, 3, padding='same', activation='relu'), #convolution 2D layer with activation relu\n",
        "  layers.Dropout(0.2),\n",
        "  layers.Conv2D(128, 3, padding='same', activation='relu'), #convolution 2D layer with activation relu\n",
        "  layers.MaxPooling2D(),\n",
        "  layers.Flatten(),\n",
        "  layers.Dropout(0.2),\n",
        "  layers.Dense(1024, activation='relu'),  \n",
        "  layers.Dropout(0.2),\n",
        "  layers.Dense(512, activation='relu'),\n",
        "  layers.Dropout(0.2),\n",
        "  #output layer\n",
        "  layers.Dense(10, activation='softmax'),\n",
        "\n",
        "])\n",
        "model.summary()"
      ]
    },
    {
      "cell_type": "code",
      "execution_count": 6,
      "metadata": {
        "id": "2oFSGGsUpO-6"
      },
      "outputs": [],
      "source": [
        "#compilimg the model\n",
        "optim = keras.optimizers.Adam(learning_rate=0.0009)\n",
        "model.compile(optimizer=optim,\n",
        "              loss='SparseCategoricalCrossentropy',\n",
        "              metrics=['accuracy'])"
      ]
    },
    {
      "cell_type": "code",
      "execution_count": 7,
      "metadata": {
        "colab": {
          "base_uri": "https://localhost:8080/"
        },
        "id": "_0z4AcX4pPBY",
        "outputId": "0a1fe41a-3eab-4b82-f827-a42948e0b85a"
      },
      "outputs": [
        {
          "output_type": "stream",
          "name": "stdout",
          "text": [
            "Epoch 1/25\n",
            "782/782 [==============================] - 22s 12ms/step - loss: 1.6302 - accuracy: 0.3968 - val_loss: 1.3208 - val_accuracy: 0.5322\n",
            "Epoch 2/25\n",
            "782/782 [==============================] - 9s 11ms/step - loss: 1.1715 - accuracy: 0.5797 - val_loss: 1.0017 - val_accuracy: 0.6447\n",
            "Epoch 3/25\n",
            "782/782 [==============================] - 9s 11ms/step - loss: 0.9632 - accuracy: 0.6600 - val_loss: 0.8350 - val_accuracy: 0.7141\n",
            "Epoch 4/25\n",
            "782/782 [==============================] - 9s 11ms/step - loss: 0.8306 - accuracy: 0.7084 - val_loss: 0.7785 - val_accuracy: 0.7314\n",
            "Epoch 5/25\n",
            "782/782 [==============================] - 8s 11ms/step - loss: 0.7430 - accuracy: 0.7381 - val_loss: 0.7217 - val_accuracy: 0.7494\n",
            "Epoch 6/25\n",
            "782/782 [==============================] - 9s 11ms/step - loss: 0.6758 - accuracy: 0.7643 - val_loss: 0.6995 - val_accuracy: 0.7614\n",
            "Epoch 7/25\n",
            "782/782 [==============================] - 10s 12ms/step - loss: 0.6258 - accuracy: 0.7817 - val_loss: 0.6701 - val_accuracy: 0.7738\n",
            "Epoch 8/25\n",
            "782/782 [==============================] - 8s 11ms/step - loss: 0.5773 - accuracy: 0.7973 - val_loss: 0.6799 - val_accuracy: 0.7677\n",
            "Epoch 9/25\n",
            "782/782 [==============================] - 9s 11ms/step - loss: 0.5387 - accuracy: 0.8103 - val_loss: 0.6397 - val_accuracy: 0.7858\n",
            "Epoch 10/25\n",
            "782/782 [==============================] - 9s 11ms/step - loss: 0.5024 - accuracy: 0.8223 - val_loss: 0.6423 - val_accuracy: 0.7807\n",
            "Epoch 11/25\n",
            "782/782 [==============================] - 8s 11ms/step - loss: 0.4682 - accuracy: 0.8353 - val_loss: 0.6303 - val_accuracy: 0.7888\n",
            "Epoch 12/25\n",
            "782/782 [==============================] - 9s 11ms/step - loss: 0.4463 - accuracy: 0.8433 - val_loss: 0.6817 - val_accuracy: 0.7807\n",
            "Epoch 13/25\n",
            "782/782 [==============================] - 9s 11ms/step - loss: 0.4181 - accuracy: 0.8513 - val_loss: 0.6475 - val_accuracy: 0.7883\n",
            "Epoch 14/25\n",
            "782/782 [==============================] - 9s 11ms/step - loss: 0.3998 - accuracy: 0.8577 - val_loss: 0.6360 - val_accuracy: 0.8005\n",
            "Epoch 15/25\n",
            "782/782 [==============================] - 8s 11ms/step - loss: 0.3796 - accuracy: 0.8663 - val_loss: 0.6288 - val_accuracy: 0.7947\n",
            "Epoch 16/25\n",
            "782/782 [==============================] - 9s 11ms/step - loss: 0.3624 - accuracy: 0.8718 - val_loss: 0.6672 - val_accuracy: 0.7896\n",
            "Epoch 17/25\n",
            "782/782 [==============================] - 9s 11ms/step - loss: 0.3442 - accuracy: 0.8768 - val_loss: 0.6666 - val_accuracy: 0.7986\n",
            "Epoch 18/25\n",
            "782/782 [==============================] - 8s 11ms/step - loss: 0.3366 - accuracy: 0.8816 - val_loss: 0.6818 - val_accuracy: 0.7904\n",
            "Epoch 19/25\n",
            "782/782 [==============================] - 9s 11ms/step - loss: 0.3269 - accuracy: 0.8856 - val_loss: 0.6698 - val_accuracy: 0.7904\n",
            "Epoch 20/25\n",
            "782/782 [==============================] - 9s 11ms/step - loss: 0.3078 - accuracy: 0.8920 - val_loss: 0.7020 - val_accuracy: 0.7885\n",
            "Epoch 21/25\n",
            "782/782 [==============================] - 8s 11ms/step - loss: 0.3031 - accuracy: 0.8949 - val_loss: 0.6749 - val_accuracy: 0.8005\n",
            "Epoch 22/25\n",
            "782/782 [==============================] - 9s 11ms/step - loss: 0.2923 - accuracy: 0.8965 - val_loss: 0.6984 - val_accuracy: 0.7927\n",
            "Epoch 23/25\n",
            "782/782 [==============================] - 9s 11ms/step - loss: 0.2828 - accuracy: 0.9018 - val_loss: 0.6776 - val_accuracy: 0.7993\n",
            "Epoch 24/25\n",
            "782/782 [==============================] - 8s 11ms/step - loss: 0.2829 - accuracy: 0.9019 - val_loss: 0.6827 - val_accuracy: 0.7968\n",
            "Epoch 25/25\n",
            "782/782 [==============================] - 9s 11ms/step - loss: 0.2786 - accuracy: 0.9032 - val_loss: 0.7148 - val_accuracy: 0.7958\n"
          ]
        }
      ],
      "source": [
        "#fitting the model\n",
        "history = model.fit(\n",
        "  x_train,y_train,epochs=25,batch_size=batch_size,\n",
        "  validation_data=(x_test,y_test),shuffle = True\n",
        ")"
      ]
    },
    {
      "cell_type": "code",
      "execution_count": 8,
      "metadata": {
        "colab": {
          "base_uri": "https://localhost:8080/",
          "height": 472
        },
        "id": "ug6rHIAkwAnv",
        "outputId": "366aabc3-e23d-4c37-ccec-c8b13fbf5098"
      },
      "outputs": [
        {
          "output_type": "display_data",
          "data": {
            "text/plain": [
              "<Figure size 640x480 with 1 Axes>"
            ],
            "image/png": "[encoded data removed]"
          },
          "metadata": {}
        }
      ],
      "source": [
        "#  \"Accuracy\"\n",
        "plt.plot(history.history['accuracy'])\n",
        "plt.plot(history.history['val_accuracy'])\n",
        "plt.plot(history.history['accuracy'])\n",
        "plt.plot(history.history['val_accuracy'])\n",
        "plt.title('model accuracy') #main title\n",
        "#labels\n",
        "plt.ylabel('accuracy')\n",
        "plt.xlabel('epoch')\n",
        "#legends\n",
        "plt.legend(['train', 'validation'], loc='upper left')\n",
        "plt.show()"
      ]
    },
    {
      "cell_type": "markdown",
      "metadata": {
        "id": "OVPny46057yD"
      },
      "source": [
        "# 2) **Functional**"
      ]
    },
    {
      "cell_type": "code",
      "execution_count": 9,
      "metadata": {
        "colab": {
          "base_uri": "https://localhost:8080/"
        },
        "id": "aH4ATi4MUA0h",
        "outputId": "ff80a04a-7ff0-47ff-874e-dc9b1413cb69"
      },
      "outputs": [
        {
          "output_type": "stream",
          "name": "stdout",
          "text": [
            "Model: \"model\"\n",
            "_________________________________________________________________\n",
            " Layer (type)                Output Shape              Param #   \n",
            "=================================================================\n",
            " input_1 (InputLayer)        [(None, 32, 32, 3)]       0         \n",
            "                                                                 \n",
            " conv2d_6 (Conv2D)           (None, 32, 32, 32)        896       \n",
            "                                                                 \n",
            " dropout_6 (Dropout)         (None, 32, 32, 32)        0         \n",
            "                                                                 \n",
            " conv2d_7 (Conv2D)           (None, 32, 32, 32)        9248      \n",
            "                                                                 \n",
            " max_pooling2d_3 (MaxPooling  (None, 16, 16, 32)       0         \n",
            " 2D)                                                             \n",
            "                                                                 \n",
            " conv2d_8 (Conv2D)           (None, 16, 16, 64)        18496     \n",
            "                                                                 \n",
            " dropout_7 (Dropout)         (None, 16, 16, 64)        0         \n",
            "                                                                 \n",
            " conv2d_9 (Conv2D)           (None, 16, 16, 64)        36928     \n",
            "                                                                 \n",
            " max_pooling2d_4 (MaxPooling  (None, 8, 8, 64)         0         \n",
            " 2D)                                                             \n",
            "                                                                 \n",
            " conv2d_10 (Conv2D)          (None, 8, 8, 128)         73856     \n",
            "                                                                 \n",
            " dropout_8 (Dropout)         (None, 8, 8, 128)         0         \n",
            "                                                                 \n",
            " conv2d_11 (Conv2D)          (None, 8, 8, 128)         147584    \n",
            "                                                                 \n",
            " max_pooling2d_5 (MaxPooling  (None, 4, 4, 128)        0         \n",
            " 2D)                                                             \n",
            "                                                                 \n",
            " flatten_1 (Flatten)         (None, 2048)              0         \n",
            "                                                                 \n",
            " dropout_9 (Dropout)         (None, 2048)              0         \n",
            "                                                                 \n",
            " dense_3 (Dense)             (None, 1024)              2098176   \n",
            "                                                                 \n",
            " dropout_10 (Dropout)        (None, 1024)              0         \n",
            "                                                                 \n",
            " dense_4 (Dense)             (None, 512)               524800    \n",
            "                                                                 \n",
            " dropout_11 (Dropout)        (None, 512)               0         \n",
            "                                                                 \n",
            " dense_5 (Dense)             (None, 10)                5130      \n",
            "                                                                 \n",
            "=================================================================\n",
            "Total params: 2,915,114\n",
            "Trainable params: 2,915,114\n",
            "Non-trainable params: 0\n",
            "_________________________________________________________________\n"
          ]
        }
      ],
      "source": [
        "#importing required libraries\n",
        "from tensorflow.keras.models import Sequential,Model\n",
        "from tensorflow.keras import layers\n",
        "from tensorflow.keras.layers import Dense, Dropout, Flatten, Conv2D, MaxPooling2D\n",
        "from tensorflow.keras import Input\n",
        "\n",
        "#creating the model \n",
        "#input layer\n",
        "i =  Input(shape = (32,32,3))\n",
        "x = Conv2D(32,3, padding = 'same', activation='relu')(i)   #convolution 2D layer with activation relu\n",
        "#hidden layer\n",
        "x = layers.Dropout(0.2)(x)\n",
        "x = Conv2D(32,3, padding = 'same',activation='relu')(x)  #convolution 2D layer with activation relu\n",
        "x = layers.MaxPooling2D()(x)\n",
        "x = Conv2D(64,3, padding = 'same',activation='relu')(x)  #convolution 2D layer with activation relu\n",
        "x = layers.Dropout(0.2)(x)\n",
        "x = Conv2D(64,3, padding = 'same',activation='relu')(x)  #convolution 2D layer with activation relu\n",
        "x = layers.MaxPooling2D()(x)\n",
        "x = Conv2D(128,3, padding = 'same',activation='relu')(x)   #convolution 2D layer with activation relu\n",
        "x = layers.Dropout(0.2)(x)\n",
        "x = Conv2D(128,3, padding = 'same',activation='relu')(x)   #convolution 2D layer with activation relu\n",
        "x = layers.MaxPooling2D()(x)\n",
        "x = Flatten()(x)\n",
        "x = layers.Dropout(0.2)(x)\n",
        "x = Dense(1024,activation='relu')(x)\n",
        "x = layers.Dropout(0.2)(x)\n",
        "x = Dense(512,activation='relu')(x)\n",
        "x = layers.Dropout(0.2)(x)\n",
        "#output layer\n",
        "o = Dense(10,activation='softmax')(x)\n",
        "model = Model(inputs=i, outputs=o)\n",
        "model.summary()"
      ]
    },
    {
      "cell_type": "code",
      "execution_count": 10,
      "metadata": {
        "id": "uBix5JyrkQt9"
      },
      "outputs": [],
      "source": [
        "#compiling the mode adam optimizer\n",
        "optim = keras.optimizers.Adam(learning_rate=0.0009)\n",
        "model.compile(optimizer=optim,\n",
        "              loss='SparseCategoricalCrossentropy',\n",
        "              metrics=['accuracy'])"
      ]
    },
    {
      "cell_type": "code",
      "execution_count": 11,
      "metadata": {
        "colab": {
          "base_uri": "https://localhost:8080/"
        },
        "id": "SwQL6uj0kYME",
        "outputId": "b0b0c29a-ece2-47c4-e701-6a9ed1d1faa7"
      },
      "outputs": [
        {
          "output_type": "stream",
          "name": "stdout",
          "text": [
            "Epoch 1/25\n",
            "782/782 [==============================] - 13s 12ms/step - loss: 1.6120 - accuracy: 0.4001 - val_loss: 1.2857 - val_accuracy: 0.5292\n",
            "Epoch 2/25\n",
            "782/782 [==============================] - 9s 11ms/step - loss: 1.1421 - accuracy: 0.5900 - val_loss: 1.0041 - val_accuracy: 0.6467\n",
            "Epoch 3/25\n",
            "782/782 [==============================] - 9s 11ms/step - loss: 0.9276 - accuracy: 0.6729 - val_loss: 0.8993 - val_accuracy: 0.6835\n",
            "Epoch 4/25\n",
            "782/782 [==============================] - 9s 11ms/step - loss: 0.8040 - accuracy: 0.7166 - val_loss: 0.7602 - val_accuracy: 0.7375\n",
            "Epoch 5/25\n",
            "782/782 [==============================] - 9s 11ms/step - loss: 0.7138 - accuracy: 0.7494 - val_loss: 0.7053 - val_accuracy: 0.7571\n",
            "Epoch 6/25\n",
            "782/782 [==============================] - 9s 11ms/step - loss: 0.6465 - accuracy: 0.7740 - val_loss: 0.7173 - val_accuracy: 0.7592\n",
            "Epoch 7/25\n",
            "782/782 [==============================] - 9s 11ms/step - loss: 0.5876 - accuracy: 0.7943 - val_loss: 0.6729 - val_accuracy: 0.7690\n",
            "Epoch 8/25\n",
            "782/782 [==============================] - 9s 11ms/step - loss: 0.5415 - accuracy: 0.8102 - val_loss: 0.6491 - val_accuracy: 0.7794\n",
            "Epoch 9/25\n",
            "782/782 [==============================] - 9s 11ms/step - loss: 0.5014 - accuracy: 0.8226 - val_loss: 0.6474 - val_accuracy: 0.7840\n",
            "Epoch 10/25\n",
            "782/782 [==============================] - 9s 11ms/step - loss: 0.4689 - accuracy: 0.8344 - val_loss: 0.6304 - val_accuracy: 0.7896\n",
            "Epoch 11/25\n",
            "782/782 [==============================] - 9s 11ms/step - loss: 0.4414 - accuracy: 0.8450 - val_loss: 0.6642 - val_accuracy: 0.7797\n",
            "Epoch 12/25\n",
            "782/782 [==============================] - 9s 12ms/step - loss: 0.4139 - accuracy: 0.8537 - val_loss: 0.6607 - val_accuracy: 0.7869\n",
            "Epoch 13/25\n",
            "782/782 [==============================] - 9s 12ms/step - loss: 0.3935 - accuracy: 0.8619 - val_loss: 0.6626 - val_accuracy: 0.7880\n",
            "Epoch 14/25\n",
            "782/782 [==============================] - 9s 11ms/step - loss: 0.3684 - accuracy: 0.8701 - val_loss: 0.6549 - val_accuracy: 0.8028\n",
            "Epoch 15/25\n",
            "782/782 [==============================] - 9s 12ms/step - loss: 0.3545 - accuracy: 0.8764 - val_loss: 0.6875 - val_accuracy: 0.7884\n",
            "Epoch 16/25\n",
            "782/782 [==============================] - 9s 11ms/step - loss: 0.3403 - accuracy: 0.8803 - val_loss: 0.6631 - val_accuracy: 0.7919\n",
            "Epoch 17/25\n",
            "782/782 [==============================] - 9s 11ms/step - loss: 0.3285 - accuracy: 0.8841 - val_loss: 0.6696 - val_accuracy: 0.7985\n",
            "Epoch 18/25\n",
            "782/782 [==============================] - 9s 11ms/step - loss: 0.3204 - accuracy: 0.8879 - val_loss: 0.7138 - val_accuracy: 0.7827\n",
            "Epoch 19/25\n",
            "782/782 [==============================] - 9s 11ms/step - loss: 0.3071 - accuracy: 0.8921 - val_loss: 0.6811 - val_accuracy: 0.7910\n",
            "Epoch 20/25\n",
            "782/782 [==============================] - 9s 11ms/step - loss: 0.2920 - accuracy: 0.8994 - val_loss: 0.7075 - val_accuracy: 0.7923\n",
            "Epoch 21/25\n",
            "782/782 [==============================] - 9s 11ms/step - loss: 0.2844 - accuracy: 0.9007 - val_loss: 0.6736 - val_accuracy: 0.7988\n",
            "Epoch 22/25\n",
            "782/782 [==============================] - 9s 11ms/step - loss: 0.2872 - accuracy: 0.8991 - val_loss: 0.7501 - val_accuracy: 0.7829\n",
            "Epoch 23/25\n",
            "782/782 [==============================] - 9s 11ms/step - loss: 0.2704 - accuracy: 0.9066 - val_loss: 0.7379 - val_accuracy: 0.7903\n",
            "Epoch 24/25\n",
            "782/782 [==============================] - 9s 11ms/step - loss: 0.2680 - accuracy: 0.9063 - val_loss: 0.7105 - val_accuracy: 0.7958\n",
            "Epoch 25/25\n",
            "782/782 [==============================] - 9s 11ms/step - loss: 0.2564 - accuracy: 0.9112 - val_loss: 0.7289 - val_accuracy: 0.7847\n"
          ]
        }
      ],
      "source": [
        "#fitting the model\n",
        "history = model.fit(\n",
        "  x_train,y_train,epochs=25,batch_size=batch_size,\n",
        "  validation_data=(x_test,y_test),shuffle = True\n",
        ")"
      ]
    },
    {
      "cell_type": "code",
      "source": [
        "history.history['accuracy']"
      ],
      "metadata": {
        "colab": {
          "base_uri": "https://localhost:8080/"
        },
        "id": "0N5BA6p43URt",
        "outputId": "d199e07f-34da-4acb-e6fa-42266b180dfa"
      },
      "execution_count": 12,
      "outputs": [
        {
          "output_type": "execute_result",
          "data": {
            "text/plain": [
              "[0.40007999539375305,\n",
              " 0.5899999737739563,\n",
              " 0.6729199886322021,\n",
              " 0.7166000008583069,\n",
              " 0.7493799924850464,\n",
              " 0.7739999890327454,\n",
              " 0.7942799925804138,\n",
              " 0.8102200031280518,\n",
              " 0.8226000070571899,\n",
              " 0.8344399929046631,\n",
              " 0.8450000286102295,\n",
              " 0.853659987449646,\n",
              " 0.8619199991226196,\n",
              " 0.8700600266456604,\n",
              " 0.8763999938964844,\n",
              " 0.880299985408783,\n",
              " 0.8840799927711487,\n",
              " 0.8878800272941589,\n",
              " 0.8921200037002563,\n",
              " 0.899399995803833,\n",
              " 0.9007200002670288,\n",
              " 0.8991000056266785,\n",
              " 0.9065600037574768,\n",
              " 0.9063400030136108,\n",
              " 0.9112399816513062]"
            ]
          },
          "metadata": {},
          "execution_count": 12
        }
      ]
    },
    {
      "cell_type": "code",
      "source": [
        "history.history['val_accuracy']"
      ],
      "metadata": {
        "colab": {
          "base_uri": "https://localhost:8080/"
        },
        "id": "Qy6BTyI43Y95",
        "outputId": "e15747a7-df1b-4c8b-c8f9-7d90e32dfecb"
      },
      "execution_count": 13,
      "outputs": [
        {
          "output_type": "execute_result",
          "data": {
            "text/plain": [
              "[0.52920001745224,\n",
              " 0.6467000246047974,\n",
              " 0.6834999918937683,\n",
              " 0.737500011920929,\n",
              " 0.757099986076355,\n",
              " 0.7591999769210815,\n",
              " 0.7689999938011169,\n",
              " 0.7793999910354614,\n",
              " 0.7839999794960022,\n",
              " 0.7896000146865845,\n",
              " 0.779699981212616,\n",
              " 0.786899983882904,\n",
              " 0.7879999876022339,\n",
              " 0.8027999997138977,\n",
              " 0.7883999943733215,\n",
              " 0.7918999791145325,\n",
              " 0.7985000014305115,\n",
              " 0.7827000021934509,\n",
              " 0.7910000085830688,\n",
              " 0.7922999858856201,\n",
              " 0.798799991607666,\n",
              " 0.7828999757766724,\n",
              " 0.7903000116348267,\n",
              " 0.795799970626831,\n",
              " 0.7846999764442444]"
            ]
          },
          "metadata": {},
          "execution_count": 13
        }
      ]
    },
    {
      "cell_type": "code",
      "execution_count": 14,
      "metadata": {
        "colab": {
          "base_uri": "https://localhost:8080/",
          "height": 472
        },
        "id": "E6tRovBuw6LR",
        "outputId": "3534d08d-d13e-4321-f411-d5a4889937f8"
      },
      "outputs": [
        {
          "output_type": "display_data",
          "data": {
            "text/plain": [
              "<Figure size 640x480 with 1 Axes>"
            ],
            "image/png": "[encoded data removed]"
          },
          "metadata": {}
        }
      ],
      "source": [
        "#  \"Accuracy\"\n",
        "plt.plot(history.history['accuracy'])\n",
        "plt.plot(history.history['val_accuracy'])\n",
        "plt.plot(history.history['accuracy'])\n",
        "plt.plot(history.history['val_accuracy'])\n",
        "plt.title('model accuracy')\n",
        "#labeling the axis\n",
        "plt.ylabel('accuracy')\n",
        "plt.xlabel('epoch')\n",
        "#title\n",
        "plt.legend(['train', 'val'], loc='upper left')\n",
        "plt.show()"
      ]
    },
    {
      "cell_type": "markdown",
      "metadata": {
        "id": "KcdWcZdlcCSV"
      },
      "source": [
        "# **2.1) Model checkpoint**"
      ]
    },
    {
      "cell_type": "code",
      "execution_count": 15,
      "metadata": {
        "colab": {
          "base_uri": "https://localhost:8080/"
        },
        "id": "aTRnawpebDWq",
        "outputId": "924bbc36-1be0-4bec-dbdd-b585d579fa2e"
      },
      "outputs": [
        {
          "output_type": "execute_result",
          "data": {
            "text/plain": [
              "<keras.callbacks.ModelCheckpoint at 0x7f5892247160>"
            ]
          },
          "metadata": {},
          "execution_count": 15
        }
      ],
      "source": [
        "#importing required libraries\n",
        "from keras.callbacks import ModelCheckpoint\n",
        "checkpoint_filepath = '/tmp/checkpoint'\n",
        "keras.callbacks.ModelCheckpoint(filepath = checkpoint_filepath, monitor='val_loss', verbose=0, save_best_only=False, save_weights_only=False, mode='auto')"
      ]
    },
    {
      "cell_type": "markdown",
      "metadata": {
        "id": "XObECq8TcOc0"
      },
      "source": [
        "# **RedudceLROnPlateau**"
      ]
    },
    {
      "cell_type": "code",
      "execution_count": 16,
      "metadata": {
        "id": "ZHhRmf29cG1F"
      },
      "outputs": [],
      "source": [
        "#importing required libraries\n",
        "from keras.callbacks import ReduceLROnPlateau\n",
        "reduce_lr = ReduceLROnPlateau(monitor = 'val_loss', factor = 0.2, patience = 5, min_lr = 0.001)"
      ]
    },
    {
      "cell_type": "markdown",
      "metadata": {
        "id": "qNz1oZWMcR6V"
      },
      "source": [
        "# **EarlyStopping**"
      ]
    },
    {
      "cell_type": "code",
      "execution_count": 17,
      "metadata": {
        "id": "HfhiOTlOcSZF"
      },
      "outputs": [],
      "source": [
        "#importing required libraries\n",
        "from keras.callbacks import EarlyStopping\n",
        "early_stop = EarlyStopping(monitor = 'val_loss', mode = 'min', verbose =1 , patience = 200)\n",
        "history = model.fit(x_train,y_train, validation_data = (x_test, y_test),epochs=1, verbose=0,callbacks=[early_stop])"
      ]
    },
    {
      "cell_type": "markdown",
      "source": [
        "# **3) Saving the model**"
      ],
      "metadata": {
        "id": "1NaYZs_9q2dS"
      }
    },
    {
      "cell_type": "code",
      "source": [
        "model.save(\"model1.h5\")"
      ],
      "metadata": {
        "id": "7FrHKnhjqybk"
      },
      "execution_count": 18,
      "outputs": []
    },
    {
      "cell_type": "code",
      "source": [
        "# import dependencies\n",
        "from IPython.display import display, Javascript, Image\n",
        "from google.colab.output import eval_js\n",
        "from base64 import b64decode, b64encode\n",
        "import cv2\n",
        "import numpy as np\n",
        "import PIL\n",
        "import io\n",
        "import html\n",
        "import time\n",
        "\n",
        "# function to convert the JavaScript object into an OpenCV image\n",
        "def js_to_image(js_reply):\n",
        "  \"\"\"\n",
        "  Params:\n",
        "          js_reply: JavaScript object containing image from webcam\n",
        "  Returns:\n",
        "          img: OpenCV BGR image\n",
        "  \"\"\"\n",
        "  # decode base64 image\n",
        "  image_bytes = b64decode(js_reply.split(',')[1])\n",
        "  # convert bytes to numpy array\n",
        "  jpg_as_np = np.frombuffer(image_bytes, dtype=np.uint8)\n",
        "  # decode numpy array into OpenCV BGR image\n",
        "  img = cv2.imdecode(jpg_as_np, flags=1)\n",
        "\n",
        "  return img\n",
        "\n",
        "# function to convert OpenCV Rectangle bounding box image into base64 byte string to be overlayed on video stream\n",
        "def bbox_to_bytes(bbox_array):\n",
        "  \"\"\"\n",
        "  Params:\n",
        "          bbox_array: Numpy array (pixels) containing rectangle to overlay on video stream.\n",
        "  Returns:\n",
        "        bytes: Base64 image byte string\n",
        "  \"\"\"\n",
        "  # convert array into PIL image\n",
        "  bbox_PIL = PIL.Image.fromarray(bbox_array, 'RGBA')\n",
        "  iobuf = io.BytesIO()\n",
        "  # format bbox into png for return\n",
        "  bbox_PIL.save(iobuf, format='png')\n",
        "  # format return string\n",
        "  bbox_bytes = 'data:image/png;base64,{}'.format((str(b64encode(iobuf.getvalue()), 'utf-8')))\n",
        "\n",
        "  return bbox_bytes\n",
        "\n",
        "\n",
        "\n",
        "  # initialize the Haar Cascade face detection model\n",
        "face_cascade = cv2.CascadeClassifier(cv2.samples.findFile(cv2.data.haarcascades + 'haarcascade_frontalface_default.xml'))\n",
        "\n",
        "def take_photo(filename='photo.jpg', quality=0.8):\n",
        "  js = Javascript('''\n",
        "    async function takePhoto(quality) {\n",
        "      const div = document.createElement('div');\n",
        "      const capture = document.createElement('button');\n",
        "      capture.textContent = 'Capture';\n",
        "      div.appendChild(capture);\n",
        "\n",
        "      const video = document.createElement('video');\n",
        "      video.style.display = 'block';\n",
        "      const stream = await navigator.mediaDevices.getUserMedia({video: true});\n",
        "\n",
        "      document.body.appendChild(div);\n",
        "      div.appendChild(video);\n",
        "      video.srcObject = stream;\n",
        "      await video.play();\n",
        "\n",
        "      // Resize the output to fit the video element.\n",
        "      google.colab.output.setIframeHeight(document.documentElement.scrollHeight, true);\n",
        "\n",
        "      // Wait for Capture to be clicked.\n",
        "      await new Promise((resolve) => capture.onclick = resolve);\n",
        "\n",
        "      const canvas = document.createElement('canvas');\n",
        "      canvas.width = video.videoWidth;\n",
        "      canvas.height = video.videoHeight;\n",
        "      canvas.getContext('2d').drawImage(video, 0, 0);\n",
        "      stream.getVideoTracks()[0].stop();\n",
        "      div.remove();\n",
        "      return canvas.toDataURL('image/jpeg', quality);\n",
        "    }\n",
        "    ''')\n",
        "  display(js)\n",
        "\n",
        "  # get photo data\n",
        "  data = eval_js('takePhoto({})'.format(quality))\n",
        "  # get OpenCV format image\n",
        "  img = js_to_image(data) \n",
        "  # grayscale img\n",
        "  gray = cv2.cvtColor(img, cv2.COLOR_RGB2GRAY)\n",
        "  print(gray.shape)\n",
        "  # get face bounding box coordinates using Haar Cascade\n",
        "  faces = face_cascade.detectMultiScale(gray)\n",
        "  # draw face bounding box on image\n",
        "  for (x,y,w,h) in faces:\n",
        "      img = cv2.rectangle(img,(x,y),(x+w,y+h),(255,0,0),2)\n",
        "  # save image\n",
        "  cv2.imwrite(filename, img)\n",
        "\n",
        "  return filename\n",
        "\n",
        "\n",
        "\n",
        "try:\n",
        "  filename = take_photo('photo.jpg')\n",
        "  print('Saved to {}'.format(filename))\n",
        "  \n",
        "  # Show the image which was just taken.\n",
        "  display(Image(filename))\n",
        "except Exception as err:\n",
        "  # Errors will be thrown if the user does not have a webcam or if they do not\n",
        "  # grant the page permission to access it.\n",
        "  print(str(err))"
      ],
      "metadata": {
        "colab": {
          "base_uri": "https://localhost:8080/",
          "height": 533
        },
        "id": "1z3o8iO6v0qf",
        "outputId": "4375205e-eede-4f3b-9f6b-e2d965450ba4"
      },
      "execution_count": 19,
      "outputs": [
        {
          "output_type": "display_data",
          "data": {
            "text/plain": [
              "<IPython.core.display.Javascript object>"
            ],
            "application/javascript": [
              "\n",
              "    async function takePhoto(quality) {\n",
              "      const div = document.createElement('div');\n",
              "      const capture = document.createElement('button');\n",
              "      capture.textContent = 'Capture';\n",
              "      div.appendChild(capture);\n",
              "\n",
              "      const video = document.createElement('video');\n",
              "      video.style.display = 'block';\n",
              "      const stream = await navigator.mediaDevices.getUserMedia({video: true});\n",
              "\n",
              "      document.body.appendChild(div);\n",
              "      div.appendChild(video);\n",
              "      video.srcObject = stream;\n",
              "      await video.play();\n",
              "\n",
              "      // Resize the output to fit the video element.\n",
              "      google.colab.output.setIframeHeight(document.documentElement.scrollHeight, true);\n",
              "\n",
              "      // Wait for Capture to be clicked.\n",
              "      await new Promise((resolve) => capture.onclick = resolve);\n",
              "\n",
              "      const canvas = document.createElement('canvas');\n",
              "      canvas.width = video.videoWidth;\n",
              "      canvas.height = video.videoHeight;\n",
              "      canvas.getContext('2d').drawImage(video, 0, 0);\n",
              "      stream.getVideoTracks()[0].stop();\n",
              "      div.remove();\n",
              "      return canvas.toDataURL('image/jpeg', quality);\n",
              "    }\n",
              "    "
            ]
          },
          "metadata": {}
        },
        {
          "output_type": "stream",
          "name": "stdout",
          "text": [
            "(480, 640)\n",
            "Saved to photo.jpg\n"
          ]
        },
        {
          "output_type": "display_data",
          "data": {
            "image/jpeg": "[encoded data removed]",
            "text/plain": [
              "<IPython.core.display.Image object>"
            ]
          },
          "metadata": {}
        }
      ]
    },
    {
      "cell_type": "markdown",
      "metadata": {
        "id": "-kd-b4WDyYgd"
      },
      "source": [
        "# **4) Predicting  image from external image data**"
      ]
    },
    {
      "cell_type": "code",
      "execution_count": 20,
      "metadata": {
        "id": "zTLG1RVaqCxV"
      },
      "outputs": [],
      "source": [
        "#there are 10 classes in cifar10 dataset which are\n",
        "classes = [\"airplane\",\"automobile\",\"bird\",\"cat\",\"deer\",\"dog\",\"frog\",\"horse\",\"ship\",\"truck\"]"
      ]
    },
    {
      "cell_type": "code",
      "execution_count": 21,
      "metadata": {
        "colab": {
          "base_uri": "https://localhost:8080/",
          "height": 464
        },
        "id": "SxdrJUhzqC3O",
        "outputId": "1b666d81-c9ff-4d53-f488-3e1de77cae74"
      },
      "outputs": [
        {
          "output_type": "stream",
          "name": "stdout",
          "text": [
            "1/1 [==============================] - 0s 310ms/step\n"
          ]
        },
        {
          "output_type": "execute_result",
          "data": {
            "text/plain": [
              "(-0.5, 31.5, 31.5, -0.5)"
            ]
          },
          "metadata": {},
          "execution_count": 21
        },
        {
          "output_type": "display_data",
          "data": {
            "text/plain": [
              "<Figure size 640x480 with 1 Axes>"
            ],
            "image/png": "[encoded data removed]"
          },
          "metadata": {}
        }
      ],
      "source": [
        "import numpy as np\n",
        "\n",
        "path=\"/content/photo.jpg\"\n",
        "image = keras.preprocessing.image.load_img(path, target_size=(32, 32))\n",
        "img_arr = keras.preprocessing.image.img_to_array(image)\n",
        "img_arr = tf.expand_dims(img_arr, 0)\n",
        "    #predicting the image\n",
        "predictions = model.predict(img_arr)\n",
        "pred_class = np.argmax(predictions)\n",
        "pred_label = f'Predicted: {classes[pred_class]} {round(predictions[0][pred_class]*100,2)}%'\n",
        "score = tf.nn.softmax(predictions[0])\n",
        "plt.imshow(image)\n",
        "plt.title(f'{pred_label}')\n",
        "plt.axis('off')\n",
        "\n",
        "\n",
        "\n",
        "# pred()\n"
      ]
    }
  ],
  "metadata": {
    "accelerator": "GPU",
    "colab": {
      "machine_shape": "hm",
      "provenance": [],
      "gpuType": "T4"
    },
    "kernelspec": {
      "display_name": "Python 3",
      "name": "python3"
    },
    "language_info": {
      "name": "python"
    },
    "gpuClass": "standard"
  },
  "nbformat": 4,
  "nbformat_minor": 0
}